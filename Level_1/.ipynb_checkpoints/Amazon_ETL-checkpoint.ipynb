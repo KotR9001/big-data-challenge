{
 "cells": [
  {
   "cell_type": "code",
   "execution_count": null,
   "metadata": {
    "id": "0JqEo6Vtq8_m"
   },
   "outputs": [],
   "source": [
    "# Install Java, Spark, and Findspark\n",
    "!apt-get install openjdk-8-jdk-headless -qq > /dev/null\n",
    "!wget -q http://www-us.apache.org/dist/spark/spark-3.0.1/spark-3.0.1-bin-hadoop2.7.tgz\n",
    "!tar xf spark-3.0.1-bin-hadoop2.7.tgz\n",
    "!pip install -q findspark\n",
    "\n",
    "# Set Environment Variables\n",
    "import os\n",
    "os.environ[\"JAVA_HOME\"] = \"/usr/lib/jvm/java-8-openjdk-amd64\"\n",
    "os.environ[\"SPARK_HOME\"] = \"/content/spark-3.0.1-bin-hadoop2.7\"\n",
    "\n",
    "# Start a SparkSession\n",
    "import findspark\n",
    "findspark.init()"
   ]
  },
  {
   "cell_type": "code",
   "execution_count": null,
   "metadata": {
    "colab": {
     "base_uri": "https://localhost:8080/",
     "height": 202
    },
    "id": "WeMw3rYOrG7k",
    "outputId": "3ad9387b-741a-4007-bb3c-6693c0146001"
   },
   "outputs": [],
   "source": [
    "#Install PostgreSQL in Notebook\n",
    "!wget https://jdbc.postgresql.org/download/postgresql-42.2.9.jar"
   ]
  },
  {
   "cell_type": "code",
   "execution_count": null,
   "metadata": {
    "id": "FcSqteCbsAQN"
   },
   "outputs": [],
   "source": [
    "#Create a Spark Session to Allow ETL Operations on Amazon Dataset(s)\n",
    "from pyspark.sql import SparkSession\n",
    "spark = SparkSession.builder.appName(\"Amazon-ETL\").config(\"spark.driver.extraClassPath\",\"/content/postgresql-42.2.9.jar\").getOrCreate()"
   ]
  },
  {
   "cell_type": "code",
   "execution_count": null,
   "metadata": {
    "colab": {
     "base_uri": "https://localhost:8080/",
     "height": 474
    },
    "id": "srPaRpyyswY9",
    "outputId": "86d17141-ce40-4463-ef4b-75393effffe4"
   },
   "outputs": [],
   "source": [
    "# Read in data from S3 Buckets\n",
    "from pyspark import SparkFiles\n",
    "\n",
    "url=\"https://s3.amazonaws.com/amazon-reviews-pds/tsv/amazon_reviews_us_Wireless_v1_00.tsv.gz\"\n",
    "spark.sparkContext.addFile(url)\n",
    "#SparkFiles.getRootDirectory()\n",
    "wireless_data_df = spark.read.csv(SparkFiles.get(\"amazon_reviews_us_Wireless_v1_00.tsv.gz\"), sep=\",\", header=True, inferSchema=True)\n",
    "\n",
    "# Show DataFrame\n",
    "wireless_data_df.show()"
   ]
  },
  {
   "cell_type": "code",
   "execution_count": null,
   "metadata": {
    "colab": {
     "base_uri": "https://localhost:8080/",
     "height": 34
    },
    "id": "RthE8sAns_3K",
    "outputId": "af84df70-de54-4401-c6e2-1bd911ed645a"
   },
   "outputs": [],
   "source": [
    "#Count the Rows\n",
    "wireless_data_df.count()"
   ]
  },
  {
   "cell_type": "code",
   "execution_count": null,
   "metadata": {
    "id": "VdIicNuA6ZCd"
   },
   "outputs": [],
   "source": [
    "#Import Struct Fields\n",
    "from pyspark.sql.types import StructField, StringType, IntegerType, DateType, StructType"
   ]
  },
  {
   "cell_type": "code",
   "execution_count": null,
   "metadata": {
    "colab": {
     "base_uri": "https://localhost:8080/",
     "height": 121
    },
    "id": "Msr8P5f0662Q",
    "outputId": "944967e3-c59d-435a-8070-0291dc98ce27"
   },
   "outputs": [],
   "source": [
    "# Next we need to create the list of struct fields\n",
    "review_id_schema = [StructField(\"review_id\", StringType(), False), StructField(\"customer_id\", IntegerType(), True), StructField(\"product_id\", StringType(), True), StructField(\"review_date\", DateType(), True)]\n",
    "products_schema = [StructField(\"product_id\", StringType(), False), StructField(\"product_title\", StringType(), True)]\n",
    "customers_schema = [StructField(\"customer_id\", IntegerType(), False), StructField(\"customer_count\", IntegerType(), True)]\n",
    "vine_schema = [StructField(\"review_id\", StringType(), False), StructField(\"star_rating\", IntegerType(), True), StructField(\"helpful_votes\", IntegerType(), True), StructField(\"total_votes\", IntegerType(), True), StructField(\"vine\", StringType(), True)]\n",
    "final_schema = [StructField(\"marketplace\", StringType(), True), StructField(\"customer_id\", IntegerType(), True), StructField(\"review_id\", StringType(), True), StructField(\"product_id\", StringType(), False), \n",
    "                StructField(\"product_parent\", StringType(), True), StructField(\"product_title\", StringType(), True), StructField(\"product_category\", StringType(), True), \n",
    "                StructField(\"star_rating\", IntegerType(), True), StructField(\"helpful_votes\", IntegerType(), True), StructField(\"total_votes\", IntegerType(), True), \n",
    "                StructField(\"vine\", StringType(), True), StructField(\"verified_purchase\", StringType(), True), StructField(\"review_headline review_body\", StringType(), True),\n",
    "                StructField(\"review_date\", DateType(), True)]\n",
    "print(review_id_schema)\n",
    "print(products_schema)\n",
    "print(customers_schema)\n",
    "print(vine_schema)\n",
    "print(final_schema)"
   ]
  },
  {
   "cell_type": "code",
   "execution_count": null,
   "metadata": {
    "colab": {
     "base_uri": "https://localhost:8080/",
     "height": 54
    },
    "id": "UzCBmi1dGRy8",
    "outputId": "0f9cceb0-422e-4038-d2ed-6d389e542c25"
   },
   "outputs": [],
   "source": [
    "# Pass in our fields\n",
    "final = StructType(fields=final_schema)\n",
    "final"
   ]
  },
  {
   "cell_type": "code",
   "execution_count": null,
   "metadata": {
    "id": "0ysLyTQy_1T9"
   },
   "outputs": [],
   "source": [
    "#Import SQL DataFrame\n",
    "from pyspark.sql import DataFrame as D"
   ]
  },
  {
   "cell_type": "code",
   "execution_count": null,
   "metadata": {
    "colab": {
     "base_uri": "https://localhost:8080/",
     "height": 54
    },
    "id": "NqryMPxkEnBu",
    "outputId": "9dd95b00-d9d1-4ed1-e345-4464b5f41877"
   },
   "outputs": [],
   "source": [
    "#Return New DataFrame with final_schema\n",
    "wireless_data_dataframe = spark.read.csv(SparkFiles.get(\"amazon_reviews_us_Wireless_v1_00.tsv.gz\"), sep=\",\", header=True, schema=final)\n",
    "wireless_data_dataframe"
   ]
  },
  {
   "cell_type": "code",
   "execution_count": null,
   "metadata": {
    "colab": {
     "base_uri": "https://localhost:8080/",
     "height": 1000
    },
    "id": "g0rsBivIzNfE",
    "outputId": "89503dc8-d15f-4403-f5f0-343b3d50ff20"
   },
   "outputs": [],
   "source": [
    "#Transform the Dataset to Fit the Tables in the Schema\n",
    "review_id_table = wireless_data_dataframe.select('review_id', 'customer_id', 'product_id', 'product_parent', 'review_date')\n",
    "products_table = wireless_data_dataframe.select('product_id', 'product_title')\n",
    "customers_table = wireless_data_dataframe.select('customer_id')\n",
    "vine_table = wireless_data_dataframe.select('review_id', 'star_rating', 'helpful_votes', 'total_votes', 'vine')\n",
    "review_id_table.show()\n",
    "products_table.show()\n",
    "customers_table.show()\n",
    "vine_table.show()"
   ]
  },
  {
   "cell_type": "code",
   "execution_count": null,
   "metadata": {
    "id": "D_7L4KGzRas4"
   },
   "outputs": [],
   "source": [
    "#Include Applicable JDBC Driver\n",
    "import os\n",
    "os.environ['PYSPARK_SUBMIT_ARGS'] = '--packages org.postgresql:postgresql:42.1.1 pyspark-shell'"
   ]
  },
  {
   "cell_type": "code",
   "execution_count": null,
   "metadata": {
    "id": "W0oyBj_NSmuF"
   },
   "outputs": [],
   "source": [
    "#Prepare JDBC URL\n",
    "postgres_url=\"jdbc:postgresql://localhost:5432/port?user=postgres&password=Question1967\""
   ]
  },
  {
   "cell_type": "code",
   "execution_count": null,
   "metadata": {
    "colab": {
     "base_uri": "https://localhost:8080/",
     "height": 1000
    },
    "id": "_DVtCzjEM4mg",
    "outputId": "2f1f33ec-cc0b-4df6-f2ce-de5be98ab967"
   },
   "outputs": [],
   "source": [
    "#Load DataFrames to RDS Instances\n",
    "review_id_table.write.jdbc(url=postgres_url, table='review_id', mode='overwrite')\n",
    "products_table.write.jdbc(url=postgres_url, table='products', mode='overwrite')\n",
    "customers_table.write.jdbc(url=postgres_url, table='customers', mode='overwrite')\n",
    "vine_table.write.jdbc(url=postgres_url, table='vine', mode='overwrite')"
   ]
  },
  {
   "cell_type": "code",
   "execution_count": null,
   "metadata": {
    "id": "GrY2VmbQNdCZ"
   },
   "outputs": [],
   "source": []
  }
 ],
 "metadata": {
  "colab": {
   "collapsed_sections": [],
   "name": "Amazon-ETL.ipynb",
   "provenance": []
  },
  "kernelspec": {
   "display_name": "Python [conda env:PythonData]",
   "language": "python",
   "name": "conda-env-PythonData-py"
  },
  "language_info": {
   "codemirror_mode": {
    "name": "ipython",
    "version": 3
   },
   "file_extension": ".py",
   "mimetype": "text/x-python",
   "name": "python",
   "nbconvert_exporter": "python",
   "pygments_lexer": "ipython3",
   "version": "3.6.10"
  }
 },
 "nbformat": 4,
 "nbformat_minor": 1
}
