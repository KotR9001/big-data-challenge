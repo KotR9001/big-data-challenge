{
  "nbformat": 4,
  "nbformat_minor": 0,
  "metadata": {
    "colab": {
      "name": "Amazon_ETL.ipynb",
      "provenance": [],
      "collapsed_sections": []
    },
    "kernelspec": {
      "name": "python3",
      "display_name": "Python 3"
    }
  },
  "cells": [
    {
      "cell_type": "code",
      "metadata": {
        "id": "0JqEo6Vtq8_m"
      },
      "source": [
        "# Install Java, Spark, and Findspark\n",
        "!apt-get install openjdk-8-jdk-headless -qq > /dev/null\n",
        "!wget -q http://www-us.apache.org/dist/spark/spark-3.0.1/spark-3.0.1-bin-hadoop2.7.tgz\n",
        "!tar xf spark-3.0.1-bin-hadoop2.7.tgz\n",
        "!pip install -q findspark\n",
        "\n",
        "# Set Environment Variables\n",
        "import os\n",
        "os.environ[\"JAVA_HOME\"] = \"/usr/lib/jvm/java-8-openjdk-amd64\"\n",
        "os.environ[\"SPARK_HOME\"] = \"/content/spark-3.0.1-bin-hadoop2.7\"\n",
        "\n",
        "# Start a SparkSession\n",
        "import findspark\n",
        "findspark.init()"
      ],
      "execution_count": null,
      "outputs": []
    },
    {
      "cell_type": "code",
      "metadata": {
        "id": "WeMw3rYOrG7k",
        "outputId": "69edfe1e-003e-41c2-decf-50d3531fc15c",
        "colab": {
          "base_uri": "https://localhost:8080/",
          "height": 202
        }
      },
      "source": [
        "#Install PostgreSQL in Notebook\n",
        "!wget https://jdbc.postgresql.org/download/postgresql-42.2.9.jar"
      ],
      "execution_count": null,
      "outputs": [
        {
          "output_type": "stream",
          "text": [
            "--2020-10-24 16:29:28--  https://jdbc.postgresql.org/download/postgresql-42.2.9.jar\n",
            "Resolving jdbc.postgresql.org (jdbc.postgresql.org)... 72.32.157.228, 2001:4800:3e1:1::228\n",
            "Connecting to jdbc.postgresql.org (jdbc.postgresql.org)|72.32.157.228|:443... connected.\n",
            "HTTP request sent, awaiting response... 200 OK\n",
            "Length: 914037 (893K) [application/java-archive]\n",
            "Saving to: ‘postgresql-42.2.9.jar’\n",
            "\n",
            "postgresql-42.2.9.j 100%[===================>] 892.61K  5.00MB/s    in 0.2s    \n",
            "\n",
            "2020-10-24 16:29:28 (5.00 MB/s) - ‘postgresql-42.2.9.jar’ saved [914037/914037]\n",
            "\n"
          ],
          "name": "stdout"
        }
      ]
    },
    {
      "cell_type": "code",
      "metadata": {
        "id": "FcSqteCbsAQN"
      },
      "source": [
        "#Create a Spark Session to Allow ETL Operations on Amazon Dataset(s)\n",
        "from pyspark.sql import SparkSession\n",
        "spark = SparkSession.builder.appName(\"Amazon-ETL\").config(\"spark.driver.extraClassPath\",\"/content/postgresql-42.2.9.jar\").getOrCreate()"
      ],
      "execution_count": null,
      "outputs": []
    },
    {
      "cell_type": "code",
      "metadata": {
        "id": "srPaRpyyswY9",
        "outputId": "45064640-bbf4-4798-f5f4-da533395cf87",
        "colab": {
          "base_uri": "https://localhost:8080/",
          "height": 474
        }
      },
      "source": [
        "# Read in data from S3 Buckets\n",
        "from pyspark import SparkFiles\n",
        "\n",
        "url=\"https://s3.amazonaws.com/amazon-reviews-pds/tsv/amazon_reviews_us_Wireless_v1_00.tsv.gz\"\n",
        "spark.sparkContext.addFile(url)\n",
        "#SparkFiles.getRootDirectory()\n",
        "wireless_data_df = spark.read.csv(SparkFiles.get(\"amazon_reviews_us_Wireless_v1_00.tsv.gz\"), sep=\",\", header=True, inferSchema=True)\n",
        "\n",
        "# Show DataFrame\n",
        "wireless_data_df.show()"
      ],
      "execution_count": null,
      "outputs": [
        {
          "output_type": "stream",
          "text": [
            "+-----------------------------------------------------------------------------------------------------------------------------------------------------------------------------------------------+\n",
            "|marketplace\tcustomer_id\treview_id\tproduct_id\tproduct_parent\tproduct_title\tproduct_category\tstar_rating\thelpful_votes\ttotal_votes\tvine\tverified_purchase\treview_headline\treview_body\treview_date|\n",
            "+-----------------------------------------------------------------------------------------------------------------------------------------------------------------------------------------------+\n",
            "|                                                                                                                                                                           US\t16414143\tR3W4P...|\n",
            "|                                                                                                                                                                           US\t50800750\tR15V5...|\n",
            "|                                                                                                                                                                           US\t15184378\tRY8I4...|\n",
            "|                                                                                                                                                                           US\t10203548\tR18TL...|\n",
            "|                                                                                                                                                                           US\t488280\tR1NK26S...|\n",
            "|                                                                                                                                                                           US\t13334021\tR11LO...|\n",
            "|                                                                                                                                                                           US\t27520697\tR3ALQ...|\n",
            "|                                                                                                                                                                           US\t48086021\tR3MWL...|\n",
            "|                                                                                                                                                                           US\t12738196\tR2L15...|\n",
            "|                                                                                                                                                                           US\t15867807\tR1DJ8...|\n",
            "|                                                                                                                                                                           US\t1972249\tR3MRWN...|\n",
            "|                                                                                                                                                                           US\t10956619\tR1DS6...|\n",
            "|                                                                                                                                                                           US\t14805911\tRWJM5...|\n",
            "|                                                                                                                                                                           US\t15611116\tR1XTJ...|\n",
            "|                                                                                                                                                                           US\t39298603\tR2UZL...|\n",
            "|                                                                                                                                                                           US\t17552454\tR2EZX...|\n",
            "|                                                                                                                                                                           US\t12218556\tR26VY...|\n",
            "|                                                                                                                                                                           US\t21872923\tR2SSA...|\n",
            "|                                                                                                                                                                           US\t16264332\tR1G63...|\n",
            "|                                                                                                                                                                           US\t6042304\tR2DRG0...|\n",
            "+-----------------------------------------------------------------------------------------------------------------------------------------------------------------------------------------------+\n",
            "only showing top 20 rows\n",
            "\n"
          ],
          "name": "stdout"
        }
      ]
    },
    {
      "cell_type": "code",
      "metadata": {
        "id": "RthE8sAns_3K",
        "outputId": "8bdde222-9ac6-40d5-9254-463533e3a310",
        "colab": {
          "base_uri": "https://localhost:8080/",
          "height": 34
        }
      },
      "source": [
        "#Count the Rows\n",
        "wireless_data_df.count()"
      ],
      "execution_count": null,
      "outputs": [
        {
          "output_type": "execute_result",
          "data": {
            "text/plain": [
              "9002021"
            ]
          },
          "metadata": {
            "tags": []
          },
          "execution_count": 5
        }
      ]
    },
    {
      "cell_type": "code",
      "metadata": {
        "id": "VdIicNuA6ZCd"
      },
      "source": [
        "#Import Struct Fields\n",
        "from pyspark.sql.types import StructField, StringType, IntegerType, DateType, StructType"
      ],
      "execution_count": null,
      "outputs": []
    },
    {
      "cell_type": "code",
      "metadata": {
        "id": "Msr8P5f0662Q",
        "outputId": "3ec9129c-63bb-4b60-cb0f-8af7c778f9b5",
        "colab": {
          "base_uri": "https://localhost:8080/",
          "height": 121
        }
      },
      "source": [
        "# Next we need to create the list of struct fields\n",
        "review_id_schema = [StructField(\"review_id\", StringType(), False), StructField(\"customer_id\", IntegerType(), True), StructField(\"product_id\", StringType(), True), StructField(\"review_date\", DateType(), True)]\n",
        "products_schema = [StructField(\"product_id\", StringType(), False), StructField(\"product_title\", StringType(), True)]\n",
        "customers_schema = [StructField(\"customer_id\", IntegerType(), False), StructField(\"customer_count\", IntegerType(), True)]\n",
        "vine_schema = [StructField(\"review_id\", StringType(), False), StructField(\"star_rating\", IntegerType(), True), StructField(\"helpful_votes\", IntegerType(), True), StructField(\"total_votes\", IntegerType(), True), StructField(\"vine\", StringType(), True)]\n",
        "final_schema = [StructField(\"marketplace\", StringType(), True), StructField(\"customer_id\", IntegerType(), True), StructField(\"review_id\", StringType(), True), StructField(\"product_id\", StringType(), False), \n",
        "                StructField(\"product_parent\", StringType(), True), StructField(\"product_title\", StringType(), True), StructField(\"product_category\", StringType(), True), \n",
        "                StructField(\"star_rating\", IntegerType(), True), StructField(\"helpful_votes\", IntegerType(), True), StructField(\"total_votes\", IntegerType(), True), \n",
        "                StructField(\"vine\", StringType(), True), StructField(\"verified_purchase\", StringType(), True), StructField(\"review_headline review_body\", StringType(), True),\n",
        "                StructField(\"review_date\", DateType(), True)]\n",
        "print(review_id_schema)\n",
        "print(products_schema)\n",
        "print(customers_schema)\n",
        "print(vine_schema)\n",
        "print(final_schema)"
      ],
      "execution_count": null,
      "outputs": [
        {
          "output_type": "stream",
          "text": [
            "[StructField(review_id,StringType,false), StructField(customer_id,IntegerType,true), StructField(product_id,StringType,true), StructField(review_date,DateType,true)]\n",
            "[StructField(product_id,StringType,false), StructField(product_title,StringType,true)]\n",
            "[StructField(customer_id,IntegerType,false), StructField(customer_count,IntegerType,true)]\n",
            "[StructField(review_id,StringType,false), StructField(star_rating,IntegerType,true), StructField(helpful_votes,IntegerType,true), StructField(total_votes,IntegerType,true), StructField(vine,StringType,true)]\n",
            "[StructField(marketplace,StringType,true), StructField(customer_id,IntegerType,true), StructField(review_id,StringType,true), StructField(product_id,StringType,false), StructField(product_parent,StringType,true), StructField(product_title,StringType,true), StructField(product_category,StringType,true), StructField(star_rating,IntegerType,true), StructField(helpful_votes,IntegerType,true), StructField(total_votes,IntegerType,true), StructField(vine,StringType,true), StructField(verified_purchase,StringType,true), StructField(review_headline review_body,StringType,true), StructField(review_date,DateType,true)]\n"
          ],
          "name": "stdout"
        }
      ]
    },
    {
      "cell_type": "code",
      "metadata": {
        "id": "UzCBmi1dGRy8",
        "outputId": "56cc9827-9605-4366-cf0b-fbbe9c177831",
        "colab": {
          "base_uri": "https://localhost:8080/",
          "height": 54
        }
      },
      "source": [
        "# Pass in our fields\n",
        "final = StructType(fields=final_schema)\n",
        "final"
      ],
      "execution_count": null,
      "outputs": [
        {
          "output_type": "execute_result",
          "data": {
            "text/plain": [
              "StructType(List(StructField(marketplace,StringType,true),StructField(customer_id,IntegerType,true),StructField(review_id,StringType,true),StructField(product_id,StringType,false),StructField(product_parent,StringType,true),StructField(product_title,StringType,true),StructField(product_category,StringType,true),StructField(star_rating,IntegerType,true),StructField(helpful_votes,IntegerType,true),StructField(total_votes,IntegerType,true),StructField(vine,StringType,true),StructField(verified_purchase,StringType,true),StructField(review_headline review_body,StringType,true),StructField(review_date,DateType,true)))"
            ]
          },
          "metadata": {
            "tags": []
          },
          "execution_count": 8
        }
      ]
    },
    {
      "cell_type": "code",
      "metadata": {
        "id": "0ysLyTQy_1T9"
      },
      "source": [
        "#Import SQL DataFrame\n",
        "from pyspark.sql import DataFrame as D"
      ],
      "execution_count": null,
      "outputs": []
    },
    {
      "cell_type": "code",
      "metadata": {
        "id": "NqryMPxkEnBu",
        "outputId": "b57b3562-5978-46ef-8e06-e0f3ba4fb507",
        "colab": {
          "base_uri": "https://localhost:8080/",
          "height": 54
        }
      },
      "source": [
        "#Return New DataFrame with final_schema\n",
        "wireless_data_dataframe = spark.read.csv(SparkFiles.get(\"amazon_reviews_us_Wireless_v1_00.tsv.gz\"), sep=\",\", header=True, schema=final)\n",
        "wireless_data_dataframe"
      ],
      "execution_count": null,
      "outputs": [
        {
          "output_type": "execute_result",
          "data": {
            "text/plain": [
              "DataFrame[marketplace: string, customer_id: int, review_id: string, product_id: string, product_parent: string, product_title: string, product_category: string, star_rating: int, helpful_votes: int, total_votes: int, vine: string, verified_purchase: string, review_headline review_body: string, review_date: date]"
            ]
          },
          "metadata": {
            "tags": []
          },
          "execution_count": 10
        }
      ]
    },
    {
      "cell_type": "code",
      "metadata": {
        "id": "g0rsBivIzNfE",
        "outputId": "5f0fbb42-9d5d-4466-fdc3-32498fe416f7",
        "colab": {
          "base_uri": "https://localhost:8080/",
          "height": 1000
        }
      },
      "source": [
        "#Transform the Dataset to Fit the Tables in the Schema\n",
        "review_id_table = wireless_data_dataframe.select('review_id', 'customer_id', 'product_id', 'product_parent', 'review_date')\n",
        "products_table = wireless_data_dataframe.select('product_id', 'product_title')\n",
        "customers_table = wireless_data_dataframe.select('customer_id')\n",
        "vine_table = wireless_data_dataframe.select('review_id', 'star_rating', 'helpful_votes', 'total_votes', 'vine')\n",
        "review_id_table.show()\n",
        "products_table.show()\n",
        "customers_table.show()\n",
        "vine_table.show()"
      ],
      "execution_count": null,
      "outputs": [
        {
          "output_type": "stream",
          "text": [
            "+--------------------+-----------+--------------------+--------------------+-----------+\n",
            "|           review_id|customer_id|          product_id|      product_parent|review_date|\n",
            "+--------------------+-----------+--------------------+--------------------+-----------+\n",
            "|  my battery drai...|       null| which kind of ma...|  the wireless ch...|       null|\n",
            "| they’re growing ...|       null| the pairing via ...| though it’s prob...|       null|\n",
            "|                null|       null|                null|                null|       null|\n",
            "| Travel Charger f...|       null|       iPhone 6 plus|            iPhone 5|       null|\n",
            "|                null|       null|                null|                null|       null|\n",
            "| better customer ...|       null|                null|                null|       null|\n",
            "|                null|       null|                null|                null|       null|\n",
            "|                null|       null|                null|                null|       null|\n",
            "|                null|       null|                null|                null|       null|\n",
            "| you hardly need ...|       null|                null|                null|       null|\n",
            "|         lightweight|       null| and non intrusiv...| isn't add protec...|       null|\n",
            "| in my opinion.\t2...|       null|                null|                null|       null|\n",
            "|            40-Watts|       null| Black\tWireless\t5...| it worked great ...|       null|\n",
            "|                null|       null|                null|                null|       null|\n",
            "|                null|       null|                null|                null|       null|\n",
            "|500 sq. ft.\tWirel...|       null|                null|                null|       null|\n",
            "|                null|       null|                null|                null|       null|\n",
            "|      Samsung Galaxy|       null|               Nexus|                 HTC|       null|\n",
            "|                null|       null|                null|                null|       null|\n",
            "|      Samsung Galaxy|       null|                 HTC| Nexus and More (...|       null|\n",
            "+--------------------+-----------+--------------------+--------------------+-----------+\n",
            "only showing top 20 rows\n",
            "\n",
            "+--------------------+--------------------+\n",
            "|          product_id|       product_title|\n",
            "+--------------------+--------------------+\n",
            "| which kind of ma...| it looks nice.\t2...|\n",
            "| the pairing via ...| the harder it is...|\n",
            "|                null|                null|\n",
            "|       iPhone 6 plus|                  5S|\n",
            "|                null|                null|\n",
            "|                null|                null|\n",
            "|                null|                null|\n",
            "|                null|                null|\n",
            "|                null|                null|\n",
            "|                null|                null|\n",
            "| and non intrusiv...|                null|\n",
            "|                null|                null|\n",
            "| Black\tWireless\t5...|                null|\n",
            "|                null|                null|\n",
            "|                null|                null|\n",
            "|                null|                null|\n",
            "|                null|                null|\n",
            "|               Nexus|            Motorola|\n",
            "|                null|                null|\n",
            "|                 HTC|                null|\n",
            "+--------------------+--------------------+\n",
            "only showing top 20 rows\n",
            "\n",
            "+-----------+\n",
            "|customer_id|\n",
            "+-----------+\n",
            "|       null|\n",
            "|       null|\n",
            "|       null|\n",
            "|       null|\n",
            "|       null|\n",
            "|       null|\n",
            "|       null|\n",
            "|       null|\n",
            "|       null|\n",
            "|       null|\n",
            "|       null|\n",
            "|       null|\n",
            "|       null|\n",
            "|       null|\n",
            "|       null|\n",
            "|       null|\n",
            "|       null|\n",
            "|       null|\n",
            "|       null|\n",
            "|       null|\n",
            "+-----------+\n",
            "only showing top 20 rows\n",
            "\n",
            "+--------------------+-----------+-------------+-----------+----+\n",
            "|           review_id|star_rating|helpful_votes|total_votes|vine|\n",
            "+--------------------+-----------+-------------+-----------+----+\n",
            "|  my battery drai...|       null|         null|       null|null|\n",
            "| they’re growing ...|       null|         null|       null|null|\n",
            "|                null|       null|         null|       null|null|\n",
            "| Travel Charger f...|       null|         null|       null|   4|\n",
            "|                null|       null|         null|       null|null|\n",
            "| better customer ...|       null|         null|       null|null|\n",
            "|                null|       null|         null|       null|null|\n",
            "|                null|       null|         null|       null|null|\n",
            "|                null|       null|         null|       null|null|\n",
            "| you hardly need ...|       null|         null|       null|null|\n",
            "|         lightweight|       null|         null|       null|null|\n",
            "| in my opinion.\t2...|       null|         null|       null|null|\n",
            "|            40-Watts|       null|         null|       null|null|\n",
            "|                null|       null|         null|       null|null|\n",
            "|                null|       null|         null|       null|null|\n",
            "|500 sq. ft.\tWirel...|       null|         null|       null|null|\n",
            "|                null|       null|         null|       null|null|\n",
            "|      Samsung Galaxy|       null|         null|       null|null|\n",
            "|                null|       null|         null|       null|null|\n",
            "|      Samsung Galaxy|       null|         null|       null|null|\n",
            "+--------------------+-----------+-------------+-----------+----+\n",
            "only showing top 20 rows\n",
            "\n"
          ],
          "name": "stdout"
        }
      ]
    },
    {
      "cell_type": "code",
      "metadata": {
        "id": "D_7L4KGzRas4"
      },
      "source": [
        "#Include Applicable JDBC Driver\n",
        "import os\n",
        "os.environ['PYSPARK_SUBMIT_ARGS'] = '--packages org.postgresql:postgresql:42.1.1 pyspark-shell'"
      ],
      "execution_count": null,
      "outputs": []
    },
    {
      "cell_type": "code",
      "metadata": {
        "id": "wfyO6J6wuXhG"
      },
      "source": [
        "#Import SparkContext\n",
        "from pyspark import SparkContext"
      ],
      "execution_count": null,
      "outputs": []
    },
    {
      "cell_type": "code",
      "metadata": {
        "id": "W0oyBj_NSmuF"
      },
      "source": [
        "#Prepare JDBC URL\n",
        "postgres_url=\"jdbc:postgresql://amazon-etl.c3wziqys8iwb.us-east-2.rds.amazonaws.com:5432/amazon-etl\"\n",
        "\n",
        "#List the Config\n",
        "config= {\n",
        "    \"driver\": \"org.postgresql.Driver\",\n",
        "    \"user\": \"postgres\",\n",
        "    \"password\": \"Question1967\"\n",
        "}"
      ],
      "execution_count": null,
      "outputs": []
    },
    {
      "cell_type": "code",
      "metadata": {
        "id": "_DVtCzjEM4mg",
        "outputId": "618b905f-f0e7-4d92-96ea-08ae320461c3",
        "colab": {
          "base_uri": "https://localhost:8080/",
          "height": 1000
        }
      },
      "source": [
        "#Load DataFrames to RDS Instances\n",
        "review_id_table.write.jdbc(url=postgres_url, table='review_id', mode='append', properties=config)"
      ],
      "execution_count": null,
      "outputs": [
        {
          "output_type": "error",
          "ename": "Py4JJavaError",
          "evalue": "ignored",
          "traceback": [
            "\u001b[0;31m---------------------------------------------------------------------------\u001b[0m",
            "\u001b[0;31mPy4JJavaError\u001b[0m                             Traceback (most recent call last)",
            "\u001b[0;32m<ipython-input-18-2c842b30b82e>\u001b[0m in \u001b[0;36m<module>\u001b[0;34m()\u001b[0m\n\u001b[1;32m      1\u001b[0m \u001b[0;31m#Load DataFrames to RDS Instances\u001b[0m\u001b[0;34m\u001b[0m\u001b[0;34m\u001b[0m\u001b[0;34m\u001b[0m\u001b[0m\n\u001b[0;32m----> 2\u001b[0;31m \u001b[0mreview_id_table\u001b[0m\u001b[0;34m.\u001b[0m\u001b[0mwrite\u001b[0m\u001b[0;34m.\u001b[0m\u001b[0mjdbc\u001b[0m\u001b[0;34m(\u001b[0m\u001b[0murl\u001b[0m\u001b[0;34m=\u001b[0m\u001b[0mpostgres_url\u001b[0m\u001b[0;34m,\u001b[0m \u001b[0mtable\u001b[0m\u001b[0;34m=\u001b[0m\u001b[0;34m'review_id'\u001b[0m\u001b[0;34m,\u001b[0m \u001b[0mmode\u001b[0m\u001b[0;34m=\u001b[0m\u001b[0;34m'append'\u001b[0m\u001b[0;34m,\u001b[0m \u001b[0mproperties\u001b[0m\u001b[0;34m=\u001b[0m\u001b[0mconfig\u001b[0m\u001b[0;34m)\u001b[0m\u001b[0;34m\u001b[0m\u001b[0;34m\u001b[0m\u001b[0m\n\u001b[0m",
            "\u001b[0;32m/content/spark-3.0.1-bin-hadoop2.7/python/pyspark/sql/readwriter.py\u001b[0m in \u001b[0;36mjdbc\u001b[0;34m(self, url, table, mode, properties)\u001b[0m\n\u001b[1;32m   1080\u001b[0m         \u001b[0;32mfor\u001b[0m \u001b[0mk\u001b[0m \u001b[0;32min\u001b[0m \u001b[0mproperties\u001b[0m\u001b[0;34m:\u001b[0m\u001b[0;34m\u001b[0m\u001b[0;34m\u001b[0m\u001b[0m\n\u001b[1;32m   1081\u001b[0m             \u001b[0mjprop\u001b[0m\u001b[0;34m.\u001b[0m\u001b[0msetProperty\u001b[0m\u001b[0;34m(\u001b[0m\u001b[0mk\u001b[0m\u001b[0;34m,\u001b[0m \u001b[0mproperties\u001b[0m\u001b[0;34m[\u001b[0m\u001b[0mk\u001b[0m\u001b[0;34m]\u001b[0m\u001b[0;34m)\u001b[0m\u001b[0;34m\u001b[0m\u001b[0;34m\u001b[0m\u001b[0m\n\u001b[0;32m-> 1082\u001b[0;31m         \u001b[0mself\u001b[0m\u001b[0;34m.\u001b[0m\u001b[0mmode\u001b[0m\u001b[0;34m(\u001b[0m\u001b[0mmode\u001b[0m\u001b[0;34m)\u001b[0m\u001b[0;34m.\u001b[0m\u001b[0m_jwrite\u001b[0m\u001b[0;34m.\u001b[0m\u001b[0mjdbc\u001b[0m\u001b[0;34m(\u001b[0m\u001b[0murl\u001b[0m\u001b[0;34m,\u001b[0m \u001b[0mtable\u001b[0m\u001b[0;34m,\u001b[0m \u001b[0mjprop\u001b[0m\u001b[0;34m)\u001b[0m\u001b[0;34m\u001b[0m\u001b[0;34m\u001b[0m\u001b[0m\n\u001b[0m\u001b[1;32m   1083\u001b[0m \u001b[0;34m\u001b[0m\u001b[0m\n\u001b[1;32m   1084\u001b[0m \u001b[0;34m\u001b[0m\u001b[0m\n",
            "\u001b[0;32m/content/spark-3.0.1-bin-hadoop2.7/python/lib/py4j-0.10.9-src.zip/py4j/java_gateway.py\u001b[0m in \u001b[0;36m__call__\u001b[0;34m(self, *args)\u001b[0m\n\u001b[1;32m   1303\u001b[0m         \u001b[0manswer\u001b[0m \u001b[0;34m=\u001b[0m \u001b[0mself\u001b[0m\u001b[0;34m.\u001b[0m\u001b[0mgateway_client\u001b[0m\u001b[0;34m.\u001b[0m\u001b[0msend_command\u001b[0m\u001b[0;34m(\u001b[0m\u001b[0mcommand\u001b[0m\u001b[0;34m)\u001b[0m\u001b[0;34m\u001b[0m\u001b[0;34m\u001b[0m\u001b[0m\n\u001b[1;32m   1304\u001b[0m         return_value = get_return_value(\n\u001b[0;32m-> 1305\u001b[0;31m             answer, self.gateway_client, self.target_id, self.name)\n\u001b[0m\u001b[1;32m   1306\u001b[0m \u001b[0;34m\u001b[0m\u001b[0m\n\u001b[1;32m   1307\u001b[0m         \u001b[0;32mfor\u001b[0m \u001b[0mtemp_arg\u001b[0m \u001b[0;32min\u001b[0m \u001b[0mtemp_args\u001b[0m\u001b[0;34m:\u001b[0m\u001b[0;34m\u001b[0m\u001b[0;34m\u001b[0m\u001b[0m\n",
            "\u001b[0;32m/content/spark-3.0.1-bin-hadoop2.7/python/pyspark/sql/utils.py\u001b[0m in \u001b[0;36mdeco\u001b[0;34m(*a, **kw)\u001b[0m\n\u001b[1;32m    126\u001b[0m     \u001b[0;32mdef\u001b[0m \u001b[0mdeco\u001b[0m\u001b[0;34m(\u001b[0m\u001b[0;34m*\u001b[0m\u001b[0ma\u001b[0m\u001b[0;34m,\u001b[0m \u001b[0;34m**\u001b[0m\u001b[0mkw\u001b[0m\u001b[0;34m)\u001b[0m\u001b[0;34m:\u001b[0m\u001b[0;34m\u001b[0m\u001b[0;34m\u001b[0m\u001b[0m\n\u001b[1;32m    127\u001b[0m         \u001b[0;32mtry\u001b[0m\u001b[0;34m:\u001b[0m\u001b[0;34m\u001b[0m\u001b[0;34m\u001b[0m\u001b[0m\n\u001b[0;32m--> 128\u001b[0;31m             \u001b[0;32mreturn\u001b[0m \u001b[0mf\u001b[0m\u001b[0;34m(\u001b[0m\u001b[0;34m*\u001b[0m\u001b[0ma\u001b[0m\u001b[0;34m,\u001b[0m \u001b[0;34m**\u001b[0m\u001b[0mkw\u001b[0m\u001b[0;34m)\u001b[0m\u001b[0;34m\u001b[0m\u001b[0;34m\u001b[0m\u001b[0m\n\u001b[0m\u001b[1;32m    129\u001b[0m         \u001b[0;32mexcept\u001b[0m \u001b[0mpy4j\u001b[0m\u001b[0;34m.\u001b[0m\u001b[0mprotocol\u001b[0m\u001b[0;34m.\u001b[0m\u001b[0mPy4JJavaError\u001b[0m \u001b[0;32mas\u001b[0m \u001b[0me\u001b[0m\u001b[0;34m:\u001b[0m\u001b[0;34m\u001b[0m\u001b[0;34m\u001b[0m\u001b[0m\n\u001b[1;32m    130\u001b[0m             \u001b[0mconverted\u001b[0m \u001b[0;34m=\u001b[0m \u001b[0mconvert_exception\u001b[0m\u001b[0;34m(\u001b[0m\u001b[0me\u001b[0m\u001b[0;34m.\u001b[0m\u001b[0mjava_exception\u001b[0m\u001b[0;34m)\u001b[0m\u001b[0;34m\u001b[0m\u001b[0;34m\u001b[0m\u001b[0m\n",
            "\u001b[0;32m/content/spark-3.0.1-bin-hadoop2.7/python/lib/py4j-0.10.9-src.zip/py4j/protocol.py\u001b[0m in \u001b[0;36mget_return_value\u001b[0;34m(answer, gateway_client, target_id, name)\u001b[0m\n\u001b[1;32m    326\u001b[0m                 raise Py4JJavaError(\n\u001b[1;32m    327\u001b[0m                     \u001b[0;34m\"An error occurred while calling {0}{1}{2}.\\n\"\u001b[0m\u001b[0;34m.\u001b[0m\u001b[0;34m\u001b[0m\u001b[0;34m\u001b[0m\u001b[0m\n\u001b[0;32m--> 328\u001b[0;31m                     format(target_id, \".\", name), value)\n\u001b[0m\u001b[1;32m    329\u001b[0m             \u001b[0;32melse\u001b[0m\u001b[0;34m:\u001b[0m\u001b[0;34m\u001b[0m\u001b[0;34m\u001b[0m\u001b[0m\n\u001b[1;32m    330\u001b[0m                 raise Py4JError(\n",
            "\u001b[0;31mPy4JJavaError\u001b[0m: An error occurred while calling o92.jdbc.\n: org.postgresql.util.PSQLException: The connection attempt failed.\n\tat org.postgresql.core.v3.ConnectionFactoryImpl.openConnectionImpl(ConnectionFactoryImpl.java:292)\n\tat org.postgresql.core.ConnectionFactory.openConnection(ConnectionFactory.java:49)\n\tat org.postgresql.jdbc.PgConnection.<init>(PgConnection.java:211)\n\tat org.postgresql.Driver.makeConnection(Driver.java:458)\n\tat org.postgresql.Driver.connect(Driver.java:260)\n\tat org.apache.spark.sql.execution.datasources.jdbc.JdbcUtils$.$anonfun$createConnectionFactory$1(JdbcUtils.scala:64)\n\tat org.apache.spark.sql.execution.datasources.jdbc.JdbcRelationProvider.createRelation(JdbcRelationProvider.scala:48)\n\tat org.apache.spark.sql.execution.datasources.SaveIntoDataSourceCommand.run(SaveIntoDataSourceCommand.scala:46)\n\tat org.apache.spark.sql.execution.command.ExecutedCommandExec.sideEffectResult$lzycompute(commands.scala:70)\n\tat org.apache.spark.sql.execution.command.ExecutedCommandExec.sideEffectResult(commands.scala:68)\n\tat org.apache.spark.sql.execution.command.ExecutedCommandExec.doExecute(commands.scala:90)\n\tat org.apache.spark.sql.execution.SparkPlan.$anonfun$execute$1(SparkPlan.scala:175)\n\tat org.apache.spark.sql.execution.SparkPlan.$anonfun$executeQuery$1(SparkPlan.scala:213)\n\tat org.apache.spark.rdd.RDDOperationScope$.withScope(RDDOperationScope.scala:151)\n\tat org.apache.spark.sql.execution.SparkPlan.executeQuery(SparkPlan.scala:210)\n\tat org.apache.spark.sql.execution.SparkPlan.execute(SparkPlan.scala:171)\n\tat org.apache.spark.sql.execution.QueryExecution.toRdd$lzycompute(QueryExecution.scala:122)\n\tat org.apache.spark.sql.execution.QueryExecution.toRdd(QueryExecution.scala:121)\n\tat org.apache.spark.sql.DataFrameWriter.$anonfun$runCommand$1(DataFrameWriter.scala:963)\n\tat org.apache.spark.sql.execution.SQLExecution$.$anonfun$withNewExecutionId$5(SQLExecution.scala:100)\n\tat org.apache.spark.sql.execution.SQLExecution$.withSQLConfPropagated(SQLExecution.scala:160)\n\tat org.apache.spark.sql.execution.SQLExecution$.$anonfun$withNewExecutionId$1(SQLExecution.scala:87)\n\tat org.apache.spark.sql.SparkSession.withActive(SparkSession.scala:764)\n\tat org.apache.spark.sql.execution.SQLExecution$.withNewExecutionId(SQLExecution.scala:64)\n\tat org.apache.spark.sql.DataFrameWriter.runCommand(DataFrameWriter.scala:963)\n\tat org.apache.spark.sql.DataFrameWriter.saveToV1Source(DataFrameWriter.scala:415)\n\tat org.apache.spark.sql.DataFrameWriter.save(DataFrameWriter.scala:399)\n\tat org.apache.spark.sql.DataFrameWriter.jdbc(DataFrameWriter.scala:791)\n\tat sun.reflect.NativeMethodAccessorImpl.invoke0(Native Method)\n\tat sun.reflect.NativeMethodAccessorImpl.invoke(NativeMethodAccessorImpl.java:62)\n\tat sun.reflect.DelegatingMethodAccessorImpl.invoke(DelegatingMethodAccessorImpl.java:43)\n\tat java.lang.reflect.Method.invoke(Method.java:498)\n\tat py4j.reflection.MethodInvoker.invoke(MethodInvoker.java:244)\n\tat py4j.reflection.ReflectionEngine.invoke(ReflectionEngine.java:357)\n\tat py4j.Gateway.invoke(Gateway.java:282)\n\tat py4j.commands.AbstractCommand.invokeMethod(AbstractCommand.java:132)\n\tat py4j.commands.CallCommand.execute(CallCommand.java:79)\n\tat py4j.GatewayConnection.run(GatewayConnection.java:238)\n\tat java.lang.Thread.run(Thread.java:748)\nCaused by: java.net.SocketTimeoutException: connect timed out\n\tat java.net.PlainSocketImpl.socketConnect(Native Method)\n\tat java.net.AbstractPlainSocketImpl.doConnect(AbstractPlainSocketImpl.java:350)\n\tat java.net.AbstractPlainSocketImpl.connectToAddress(AbstractPlainSocketImpl.java:206)\n\tat java.net.AbstractPlainSocketImpl.connect(AbstractPlainSocketImpl.java:188)\n\tat java.net.SocksSocketImpl.connect(SocksSocketImpl.java:392)\n\tat java.net.Socket.connect(Socket.java:607)\n\tat org.postgresql.core.PGStream.<init>(PGStream.java:75)\n\tat org.postgresql.core.v3.ConnectionFactoryImpl.tryConnect(ConnectionFactoryImpl.java:91)\n\tat org.postgresql.core.v3.ConnectionFactoryImpl.openConnectionImpl(ConnectionFactoryImpl.java:192)\n\t... 38 more\n"
          ]
        }
      ]
    },
    {
      "cell_type": "code",
      "metadata": {
        "id": "GrY2VmbQNdCZ"
      },
      "source": [
        "products_table.write.jdbc(url=postgres_url, table='products', mode='append', properties=config)"
      ],
      "execution_count": null,
      "outputs": []
    },
    {
      "cell_type": "code",
      "metadata": {
        "id": "sSS2JdZjRBq3"
      },
      "source": [
        "customers_table.write.jdbc(url=postgres_url, table='customers', mode='append', properties=config)"
      ],
      "execution_count": null,
      "outputs": []
    },
    {
      "cell_type": "code",
      "metadata": {
        "id": "9-aTtrXnRGBk"
      },
      "source": [
        "vine_table.write.jdbc(url=postgres_url, table='vine', mode='append', properties=config)"
      ],
      "execution_count": null,
      "outputs": []
    }
  ]
}